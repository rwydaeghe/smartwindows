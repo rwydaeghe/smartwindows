{
  "nbformat": 4,
  "nbformat_minor": 0,
  "metadata": {
    "colab": {
      "name": "Poisson equation using Fenics",
      "provenance": [],
      "collapsed_sections": [],
      "include_colab_link": true
    },
    "kernelspec": {
      "name": "python3",
      "display_name": "Python 3"
    }
  },
  "cells": [
    {
      "cell_type": "markdown",
      "metadata": {
        "id": "view-in-github",
        "colab_type": "text"
      },
      "source": [
        "<a href=\"https://colab.research.google.com/github/rwydaeghe/smartwindows/blob/master/Poisson_equation_using_Fenics.ipynb\" target=\"_parent\"><img src=\"https://colab.research.google.com/assets/colab-badge.svg\" alt=\"Open In Colab\"/></a>"
      ]
    },
    {
      "cell_type": "markdown",
      "metadata": {
        "id": "RX2A0ckNZAIV",
        "colab_type": "text"
      },
      "source": [
        "Configure Fenics on google colab"
      ]
    },
    {
      "cell_type": "code",
      "metadata": {
        "id": "M6AKn1Ti2JCB",
        "colab_type": "code",
        "outputId": "a8fc6dfb-01af-4dca-c93f-d2051cb2a54c",
        "colab": {
          "base_uri": "https://localhost:8080/",
          "height": 34
        }
      },
      "source": [
        "from google.colab import files\n",
        "\n",
        "import platform, sys\n",
        "python_version=platform.python_version()\n",
        "from distutils.version import LooseVersion, StrictVersion\n",
        "\n",
        "if ( LooseVersion(python_version) < LooseVersion(\"3.0.0\")):\n",
        "    print(\"Python3 is needed!\");\n",
        "    print(\"How to fix: Runtime/Change_runtime_type/Python 3\");\n",
        "    sys.exit()\n",
        "try:\n",
        "    from dolfin import *; from mshr import *\n",
        "except ImportError as e:\n",
        "    !apt-get install -y -qq software-properties-common python-software-properties module-init-tools\n",
        "    !add-apt-repository -y ppa:fenics-packages/fenics\n",
        "    !apt-get update -qq\n",
        "    !apt install -y --no-install-recommends fenics\n",
        "    from dolfin import *; from mshr import *\n",
        "    \n",
        "import matplotlib.pyplot as plt;\n",
        "from IPython.display import clear_output, display; import time; import dolfin.common.plotting as fenicsplot \n",
        "import time\n",
        "\n",
        "import os, sys, shutil\n",
        "\n",
        "dolfin_version = dolfin.__version__\n",
        "print ('dolfin version:', dolfin_version)\n",
        "\n",
        "!rm -rf * # clean up all files\n",
        "# Useful commands\n",
        "# Remove an empty folder      : os.rmdir(\"my_results\")\n",
        "# Remove a folder with files  : shutil.rmtree(\"results\")\n",
        "# Make a folder               : os.mkdir(\"my_results\")\n",
        "# Runtime/Change_runtime_type/Python3"
      ],
      "execution_count": 0,
      "outputs": [
        {
          "output_type": "stream",
          "text": [
            "dolfin version: 2019.1.0\n"
          ],
          "name": "stdout"
        }
      ]
    },
    {
      "cell_type": "code",
      "metadata": {
        "id": "4rjqWEufNz5d",
        "colab_type": "code",
        "colab": {}
      },
      "source": [
        "from dolfin import *\n",
        "import matplotlib.pyplot as plt\n",
        "import time"
      ],
      "execution_count": 0,
      "outputs": []
    },
    {
      "cell_type": "code",
      "metadata": {
        "id": "FNaM10OTnlY9",
        "colab_type": "code",
        "colab": {}
      },
      "source": [
        "t = time.clock()\n",
        "\n",
        "# Classes for different electrodes\n",
        "class E1(SubDomain):\n",
        "  def inside(self, x, on_boundary):\n",
        "    return (near(x[1], 0.0) and between(x[0], (0.0,4.0e-5)))\n",
        "\n",
        "class E2(SubDomain):\n",
        "  def inside(self, x, on_boundary):\n",
        "    return (near(x[1], 0.0) and between(x[0], (8.0e-5,12.0e-5))) \n",
        "\n",
        "class E3(SubDomain):\n",
        "  def inside(self, x, on_boundary):\n",
        "    return (near(x[1], 5.0e-5) and between(x[0], (4.0e-5,8.0e-5)))\n",
        "\n",
        "class E4(SubDomain):\n",
        "  def inside(self, x, on_boundary):\n",
        "    return (near(x[1], 5.0e-5) and between(x[0], (12.0e-5,16.0e-5)))\n",
        "\n",
        "# Initialize sub-domain instances\n",
        "e1 = E1()\n",
        "e2 = E2()\n",
        "e3 = E3()\n",
        "e4 = E4()\n",
        "  \n"
      ],
      "execution_count": 0,
      "outputs": []
    },
    {
      "cell_type": "code",
      "metadata": {
        "id": "taqZNCTNJGx2",
        "colab_type": "code",
        "colab": {}
      },
      "source": [
        "# Sub domain for Periodic boundary condition\n",
        "class PeriodicBoundary(SubDomain):\n",
        "\n",
        "    # Left boundary is \"target domain\" G\n",
        "    def inside(self, x, on_boundary):\n",
        "        return bool(x[0] < DOLFIN_EPS and x[0] > -DOLFIN_EPS and on_boundary)\n",
        "\n",
        "    # Map right boundary to left boundary \n",
        "    def map(self, x, y):\n",
        "        y[0] = x[0] - 16.0e-5\n",
        "        y[1] = x[1]\n",
        "\n",
        "# Create periodic boundary condition\n",
        "pbc = PeriodicBoundary()"
      ],
      "execution_count": 0,
      "outputs": []
    },
    {
      "cell_type": "code",
      "metadata": {
        "id": "K0uQ5To4IMQA",
        "colab_type": "code",
        "colab": {}
      },
      "source": [
        "# Create mesh and finite element\n",
        "p0 = Point(0.0,0)\n",
        "p1 = Point(16.0e-5,5.0e-5)\n",
        "mesh = RectangleMesh(p0,p1,1600,500)\n",
        "V = FunctionSpace(mesh, \"CG\", 1, constrained_domain=pbc)\n",
        "u = TrialFunction(V)\n",
        "v = TestFunction(V)\n",
        "f = Constant(0.0)\n"
      ],
      "execution_count": 0,
      "outputs": []
    },
    {
      "cell_type": "code",
      "metadata": {
        "id": "8ifsHlK1KgqR",
        "colab_type": "code",
        "colab": {}
      },
      "source": [
        "# Define Dirichlet boundary conditions for the four electrodes\n",
        "bcs = [DirichletBC(V, 1.0e-5, e1), DirichletBC(V, 1.0e-5, e2), DirichletBC(V, 1.0e-5, e3), DirichletBC(V, 1.0e-5, e4),]"
      ],
      "execution_count": 0,
      "outputs": []
    },
    {
      "cell_type": "code",
      "metadata": {
        "id": "ZzjMGo-WLrkt",
        "colab_type": "code",
        "colab": {}
      },
      "source": [
        "a = dot(grad(u), grad(v))*dx\n",
        "L = f*v*dx"
      ],
      "execution_count": 0,
      "outputs": []
    },
    {
      "cell_type": "code",
      "metadata": {
        "id": "ujDaif6SLzcF",
        "colab_type": "code",
        "outputId": "ecf9c1d3-0483-43e5-fbe2-663c30c95f3e",
        "colab": {
          "base_uri": "https://localhost:8080/",
          "height": 34
        }
      },
      "source": [
        "# Compute solution\n",
        "u = Function(V)\n",
        "solve(a == L, u, bcs)\n",
        "print(time.clock()-t)"
      ],
      "execution_count": 0,
      "outputs": [
        {
          "output_type": "stream",
          "text": [
            "37.27913\n"
          ],
          "name": "stdout"
        }
      ]
    },
    {
      "cell_type": "code",
      "metadata": {
        "id": "NjtZb9fEL1eV",
        "colab_type": "code",
        "outputId": "71c6299f-bdd2-4bde-8f18-2fea08066a64",
        "colab": {
          "base_uri": "https://localhost:8080/",
          "height": 282
        }
      },
      "source": [
        "# Plot solution\n",
        "c = plot(u)\n",
        "plt.colorbar(c)"
      ],
      "execution_count": 0,
      "outputs": [
        {
          "output_type": "execute_result",
          "data": {
            "text/plain": [
              "<matplotlib.colorbar.Colorbar at 0x7f9a01d42c88>"
            ]
          },
          "metadata": {
            "tags": []
          },
          "execution_count": 9
        },
        {
          "output_type": "display_data",
          "data": {
            "image/png": "[encoded data removed]",
            "text/plain": [
              "<Figure size 432x288 with 2 Axes>"
            ]
          },
          "metadata": {
            "tags": []
          }
        }
      ]
    },
    {
      "cell_type": "code",
      "metadata": {
        "id": "9YhPo9LuG5YK",
        "colab_type": "code",
        "colab": {}
      },
      "source": [
        "#mesh = u.function_space().mesh()\n",
        "#w = u.compute_vertex_values(mesh)\n",
        "#x = mesh.coordinates()[:,0]\n",
        "#y = mesh.coordinates()[:,1]\n",
        "#t = mesh.cells()\n"
      ],
      "execution_count": 0,
      "outputs": []
    },
    {
      "cell_type": "code",
      "metadata": {
        "id": "K6hamdwDHkJT",
        "colab_type": "code",
        "colab": {}
      },
      "source": [
        ""
      ],
      "execution_count": 0,
      "outputs": []
    }
  ]
}